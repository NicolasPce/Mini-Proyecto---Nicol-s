{
 "cells": [
  {
   "cell_type": "code",
   "execution_count": 2,
   "id": "1c0b66f3",
   "metadata": {},
   "outputs": [],
   "source": [
    "from selenium import webdriver\n",
    "from selenium.webdriver.chrome.options import Options\n",
    "import time\n",
    "import pandas as pd\n",
    "from selenium.webdriver.support.ui import Select\n",
    "from webdriver_manager.chrome import ChromeDriverManager\n"
   ]
  },
  {
   "cell_type": "code",
   "execution_count": 3,
   "id": "be28411d",
   "metadata": {},
   "outputs": [],
   "source": [
    "opciones=Options()\n",
    "\n",
    "opciones.add_experimental_option('excludeSwitches', ['enable-automation'])\n",
    "opciones.add_experimental_option('useAutomationExtension', False)\n",
    "\n",
    "\n",
    "opciones.binary_location = \"/Applications/Google Chrome.app/Contents/MacOS/Google Chrome\"\n",
    "chrome_driver_binary = \"/usr/local/bin/chromedriver\"\n",
    "\n",
    "opciones.headless=False    # si True, no aperece la ventana (headless=no visible)\n",
    "\n",
    "opciones.add_argument('--start-maximized')         # comienza maximizado\n",
    "\n",
    "opciones.add_argument('user-data-dir=selenium')    # mantiene las cookies\n",
    "\n",
    "#opciones.add_extension('driver_folder/adblock.crx')       # adblocker\n",
    "\n",
    "opciones.add_argument('--incognito')              # incognito\n",
    "#modal-policy > ul > li:nth-child(1) > button"
   ]
  },
  {
   "cell_type": "code",
   "execution_count": 61,
   "id": "00b574dc",
   "metadata": {
    "scrolled": true
   },
   "outputs": [
    {
     "name": "stderr",
     "output_type": "stream",
     "text": [
      "\n",
      "\n",
      "====== WebDriver manager ======\n",
      "Current google-chrome version is 96.0.4664\n",
      "Get LATEST chromedriver version for 96.0.4664 google-chrome\n",
      "Driver [/Users/macniacos/.wdm/drivers/chromedriver/mac64/96.0.4664.45/chromedriver] found in cache\n",
      "<ipython-input-61-43e708c0ab08>:2: DeprecationWarning: executable_path has been deprecated, please pass in a Service object\n",
      "  driver = webdriver.Chrome(ChromeDriverManager().install(), options = opciones)\n",
      "<ipython-input-61-43e708c0ab08>:13: DeprecationWarning: find_element_by_* commands are deprecated. Please use find_element() instead\n",
      "  driver.find_element_by_css_selector(f\"#modal-policy > ul > li:nth-child(1) > button\").click()\n",
      "<ipython-input-61-43e708c0ab08>:15: DeprecationWarning: find_element_by_* commands are deprecated. Please use find_element() instead\n",
      "  driver.find_element_by_css_selector(f\"body > ul > li:nth-child(1) > button\").click()\n",
      "<ipython-input-61-43e708c0ab08>:17: DeprecationWarning: find_element_by_* commands are deprecated. Please use find_element() instead\n",
      "  driver.find_element_by_css_selector(f\"body > div.jmenu.opened > nav > ul > li.catalogo > ul > li:nth-child(2) > button\").click()\n",
      "<ipython-input-61-43e708c0ab08>:19: DeprecationWarning: find_element_by_* commands are deprecated. Please use find_element() instead\n",
      "  driver.find_element_by_css_selector(f\"body > div.jmenu.opened.submenu-opened > nav > ul > li.catalogo > ul > li:nth-child(2) > ul > li:nth-child(1) > ul > li:nth-child(1) > a    \").click()\n",
      "<ipython-input-61-43e708c0ab08>:27: DeprecationWarning: find_element_by_* commands are deprecated. Please use find_element() instead\n",
      "  preciofut.append(driver.find_element_by_css_selector(f\"#main > div > div.grid-parents > div.grid-products > div:nth-child({i}) > div > div.datasheet-top > div > span\").text)\n"
     ]
    }
   ],
   "source": [
    "# download the driver \n",
    "driver = webdriver.Chrome(ChromeDriverManager().install(), options = opciones)\n",
    "\n",
    "\n",
    "# set the url\n",
    "url = \"https://www.joma-sport.com/\"\n",
    "opciones.add_argument('--start-maximized') \n",
    "\n",
    "# request the url\n",
    "driver.get(url)\n",
    "\n",
    "driver.implicitly_wait(2) # is like a time.sleep but specific of selenium\n",
    "driver.find_element_by_css_selector(f\"#modal-policy > ul > li:nth-child(1) > button\").click()\n",
    "driver.implicitly_wait(2) \n",
    "driver.find_element_by_css_selector(f\"body > ul > li:nth-child(1) > button\").click()\n",
    "driver.implicitly_wait(2) \n",
    "driver.find_element_by_css_selector(f\"body > div.jmenu.opened > nav > ul > li.catalogo > ul > li:nth-child(2) > button\").click()\n",
    "driver.implicitly_wait(2) \n",
    "driver.find_element_by_css_selector(f\"body > div.jmenu.opened.submenu-opened > nav > ul > li.catalogo > ul > li:nth-child(2) > ul > li:nth-child(1) > ul > li:nth-child(1) > a    \").click()\n",
    "\n",
    "driver.implicitly_wait(2) \n",
    "\n",
    "preciofut = []\n",
    "\n",
    "for i in range(1,10):\n",
    "\n",
    "    preciofut.append(driver.find_element_by_css_selector(f\"#main > div > div.grid-parents > div.grid-products > div:nth-child({i}) > div > div.datasheet-top > div > span\").text)"
   ]
  },
  {
   "cell_type": "code",
   "execution_count": 96,
   "id": "93f88c0d",
   "metadata": {
    "scrolled": false
   },
   "outputs": [
    {
     "data": {
      "text/plain": [
       "['45.47 EUR',\n",
       " '48.99 EUR',\n",
       " '111.96 EUR',\n",
       " '103.96 EUR',\n",
       " '159.95 EUR',\n",
       " '122.00 EUR',\n",
       " '110.00 EUR',\n",
       " '50.13 EUR',\n",
       " '30.00 EUR']"
      ]
     },
     "execution_count": 96,
     "metadata": {},
     "output_type": "execute_result"
    }
   ],
   "source": [
    "preciofut"
   ]
  },
  {
   "cell_type": "code",
   "execution_count": 97,
   "id": "b6a4f7da",
   "metadata": {},
   "outputs": [],
   "source": [
    "preciofut11 = [x[:-7] for x in preciofut]\n",
    "dff11 = pd.DataFrame(preciofut11)\n",
    "dff11[0] = dff11[0].astype(int)\n",
    "dff11 = dff11.rename(columns={0: 'Precio'})\n",
    "dff11['Tipo'] = 'Cesped'"
   ]
  },
  {
   "cell_type": "code",
   "execution_count": 98,
   "id": "943b08d2",
   "metadata": {},
   "outputs": [
    {
     "data": {
      "text/html": [
       "<div>\n",
       "<style scoped>\n",
       "    .dataframe tbody tr th:only-of-type {\n",
       "        vertical-align: middle;\n",
       "    }\n",
       "\n",
       "    .dataframe tbody tr th {\n",
       "        vertical-align: top;\n",
       "    }\n",
       "\n",
       "    .dataframe thead th {\n",
       "        text-align: right;\n",
       "    }\n",
       "</style>\n",
       "<table border=\"1\" class=\"dataframe\">\n",
       "  <thead>\n",
       "    <tr style=\"text-align: right;\">\n",
       "      <th></th>\n",
       "      <th>Precio</th>\n",
       "      <th>Tipo</th>\n",
       "    </tr>\n",
       "  </thead>\n",
       "  <tbody>\n",
       "    <tr>\n",
       "      <th>0</th>\n",
       "      <td>45</td>\n",
       "      <td>Cesped</td>\n",
       "    </tr>\n",
       "  </tbody>\n",
       "</table>\n",
       "</div>"
      ],
      "text/plain": [
       "   Precio    Tipo\n",
       "0      45  Cesped"
      ]
     },
     "execution_count": 98,
     "metadata": {},
     "output_type": "execute_result"
    }
   ],
   "source": [
    "dff11.head(1)"
   ]
  },
  {
   "cell_type": "code",
   "execution_count": 11,
   "id": "d1fdb792",
   "metadata": {
    "collapsed": true
   },
   "outputs": [
    {
     "name": "stderr",
     "output_type": "stream",
     "text": [
      "\n",
      "\n",
      "====== WebDriver manager ======\n",
      "Current google-chrome version is 96.0.4664\n",
      "Get LATEST chromedriver version for 96.0.4664 google-chrome\n",
      "Driver [/Users/macniacos/.wdm/drivers/chromedriver/mac64/96.0.4664.45/chromedriver] found in cache\n",
      "<ipython-input-11-6f35dbb4726d>:2: DeprecationWarning: executable_path has been deprecated, please pass in a Service object\n",
      "  driver = webdriver.Chrome(ChromeDriverManager().install(), options = opciones)\n",
      "<ipython-input-11-6f35dbb4726d>:13: DeprecationWarning: find_element_by_* commands are deprecated. Please use find_element() instead\n",
      "  driver.find_element_by_css_selector(f\"#modal-policy > ul > li:nth-child(1) > button\").click()\n",
      "<ipython-input-11-6f35dbb4726d>:15: DeprecationWarning: find_element_by_* commands are deprecated. Please use find_element() instead\n",
      "  driver.find_element_by_css_selector(f\"body > ul > li:nth-child(1) > button\").click()\n",
      "<ipython-input-11-6f35dbb4726d>:17: DeprecationWarning: find_element_by_* commands are deprecated. Please use find_element() instead\n",
      "  driver.find_element_by_css_selector(f\"body > div.jmenu.opened > nav > ul > li.catalogo > ul > li:nth-child(2) > button\").click()\n",
      "<ipython-input-11-6f35dbb4726d>:19: DeprecationWarning: find_element_by_* commands are deprecated. Please use find_element() instead\n",
      "  driver.find_element_by_css_selector(f\"body > div.jmenu.opened.submenu-opened > nav > ul > li.catalogo > ul > li:nth-child(2) > ul > li:nth-child(5) > ul > li:nth-child(1) > a\").click()\n",
      "<ipython-input-11-6f35dbb4726d>:27: DeprecationWarning: find_element_by_* commands are deprecated. Please use find_element() instead\n",
      "  preciosala.append(driver.find_element_by_css_selector(f\"#main > div > div.grid-parents > div.grid-products > div:nth-child({i}) > div > div.datasheet-top > div > span\").text)\n"
     ]
    }
   ],
   "source": [
    "# download the driver \n",
    "driver = webdriver.Chrome(ChromeDriverManager().install(), options = opciones)\n",
    "\n",
    "\n",
    "# set the url\n",
    "url = \"https://www.joma-sport.com/\"\n",
    "opciones.add_argument('--start-maximized') \n",
    "\n",
    "# request the url\n",
    "driver.get(url)\n",
    "\n",
    "driver.implicitly_wait(2) # is like a time.sleep but specific of selenium\n",
    "driver.find_element_by_css_selector(f\"#modal-policy > ul > li:nth-child(1) > button\").click()\n",
    "driver.implicitly_wait(2) \n",
    "driver.find_element_by_css_selector(f\"body > ul > li:nth-child(1) > button\").click()\n",
    "driver.implicitly_wait(2) \n",
    "driver.find_element_by_css_selector(f\"body > div.jmenu.opened > nav > ul > li.catalogo > ul > li:nth-child(2) > button\").click()\n",
    "driver.implicitly_wait(2) \n",
    "driver.find_element_by_css_selector(f\"body > div.jmenu.opened.submenu-opened > nav > ul > li.catalogo > ul > li:nth-child(2) > ul > li:nth-child(5) > ul > li:nth-child(1) > a\").click()\n",
    "\n",
    "driver.implicitly_wait(2) \n",
    "\n",
    "preciosala = []\n",
    "\n",
    "for i in range(1,7):\n",
    "\n",
    "    preciosala.append(driver.find_element_by_css_selector(f\"#main > div > div.grid-parents > div.grid-products > div:nth-child({i}) > div > div.datasheet-top > div > span\").text)\n"
   ]
  },
  {
   "cell_type": "code",
   "execution_count": 12,
   "id": "1ed78789",
   "metadata": {},
   "outputs": [
    {
     "data": {
      "text/plain": [
       "['60.00 EUR', '27.00 EUR', '33.00 EUR', '34.99 EUR', '27.00 EUR', '30.00 EUR']"
      ]
     },
     "execution_count": 12,
     "metadata": {},
     "output_type": "execute_result"
    }
   ],
   "source": [
    "preciosala"
   ]
  },
  {
   "cell_type": "code",
   "execution_count": 99,
   "id": "053a88cb",
   "metadata": {},
   "outputs": [],
   "source": [
    "preciosala = [x[:-7] for x in preciosala]\n",
    "dffs = pd.DataFrame(preciosala)\n",
    "dffs[0] = dffs[0].astype(int)\n",
    "dffs = dffs.rename(columns={0: 'Precio'})\n",
    "dffs['Tipo'] = 'Sala'"
   ]
  },
  {
   "cell_type": "code",
   "execution_count": 103,
   "id": "11232f6a",
   "metadata": {},
   "outputs": [
    {
     "data": {
      "text/html": [
       "<div>\n",
       "<style scoped>\n",
       "    .dataframe tbody tr th:only-of-type {\n",
       "        vertical-align: middle;\n",
       "    }\n",
       "\n",
       "    .dataframe tbody tr th {\n",
       "        vertical-align: top;\n",
       "    }\n",
       "\n",
       "    .dataframe thead th {\n",
       "        text-align: right;\n",
       "    }\n",
       "</style>\n",
       "<table border=\"1\" class=\"dataframe\">\n",
       "  <thead>\n",
       "    <tr style=\"text-align: right;\">\n",
       "      <th></th>\n",
       "      <th>Precio</th>\n",
       "      <th>Tipo</th>\n",
       "    </tr>\n",
       "  </thead>\n",
       "  <tbody>\n",
       "    <tr>\n",
       "      <th>0</th>\n",
       "      <td>60</td>\n",
       "      <td>Sala</td>\n",
       "    </tr>\n",
       "  </tbody>\n",
       "</table>\n",
       "</div>"
      ],
      "text/plain": [
       "   Precio  Tipo\n",
       "0      60  Sala"
      ]
     },
     "execution_count": 103,
     "metadata": {},
     "output_type": "execute_result"
    }
   ],
   "source": [
    "dffs.head(1)"
   ]
  },
  {
   "cell_type": "code",
   "execution_count": 102,
   "id": "88023b3f",
   "metadata": {
    "collapsed": true
   },
   "outputs": [
    {
     "data": {
      "text/html": [
       "<div>\n",
       "<style scoped>\n",
       "    .dataframe tbody tr th:only-of-type {\n",
       "        vertical-align: middle;\n",
       "    }\n",
       "\n",
       "    .dataframe tbody tr th {\n",
       "        vertical-align: top;\n",
       "    }\n",
       "\n",
       "    .dataframe thead th {\n",
       "        text-align: right;\n",
       "    }\n",
       "</style>\n",
       "<table border=\"1\" class=\"dataframe\">\n",
       "  <thead>\n",
       "    <tr style=\"text-align: right;\">\n",
       "      <th></th>\n",
       "      <th>Precio</th>\n",
       "      <th>Tipo</th>\n",
       "    </tr>\n",
       "  </thead>\n",
       "  <tbody>\n",
       "    <tr>\n",
       "      <th>0</th>\n",
       "      <td>45</td>\n",
       "      <td>Cesped</td>\n",
       "    </tr>\n",
       "    <tr>\n",
       "      <th>1</th>\n",
       "      <td>48</td>\n",
       "      <td>Cesped</td>\n",
       "    </tr>\n",
       "    <tr>\n",
       "      <th>2</th>\n",
       "      <td>111</td>\n",
       "      <td>Cesped</td>\n",
       "    </tr>\n",
       "    <tr>\n",
       "      <th>3</th>\n",
       "      <td>103</td>\n",
       "      <td>Cesped</td>\n",
       "    </tr>\n",
       "    <tr>\n",
       "      <th>4</th>\n",
       "      <td>159</td>\n",
       "      <td>Cesped</td>\n",
       "    </tr>\n",
       "    <tr>\n",
       "      <th>5</th>\n",
       "      <td>122</td>\n",
       "      <td>Cesped</td>\n",
       "    </tr>\n",
       "    <tr>\n",
       "      <th>6</th>\n",
       "      <td>110</td>\n",
       "      <td>Cesped</td>\n",
       "    </tr>\n",
       "    <tr>\n",
       "      <th>7</th>\n",
       "      <td>50</td>\n",
       "      <td>Cesped</td>\n",
       "    </tr>\n",
       "    <tr>\n",
       "      <th>8</th>\n",
       "      <td>30</td>\n",
       "      <td>Cesped</td>\n",
       "    </tr>\n",
       "    <tr>\n",
       "      <th>9</th>\n",
       "      <td>60</td>\n",
       "      <td>Sala</td>\n",
       "    </tr>\n",
       "    <tr>\n",
       "      <th>10</th>\n",
       "      <td>27</td>\n",
       "      <td>Sala</td>\n",
       "    </tr>\n",
       "    <tr>\n",
       "      <th>11</th>\n",
       "      <td>33</td>\n",
       "      <td>Sala</td>\n",
       "    </tr>\n",
       "    <tr>\n",
       "      <th>12</th>\n",
       "      <td>34</td>\n",
       "      <td>Sala</td>\n",
       "    </tr>\n",
       "    <tr>\n",
       "      <th>13</th>\n",
       "      <td>27</td>\n",
       "      <td>Sala</td>\n",
       "    </tr>\n",
       "    <tr>\n",
       "      <th>14</th>\n",
       "      <td>30</td>\n",
       "      <td>Sala</td>\n",
       "    </tr>\n",
       "  </tbody>\n",
       "</table>\n",
       "</div>"
      ],
      "text/plain": [
       "    Precio    Tipo\n",
       "0       45  Cesped\n",
       "1       48  Cesped\n",
       "2      111  Cesped\n",
       "3      103  Cesped\n",
       "4      159  Cesped\n",
       "5      122  Cesped\n",
       "6      110  Cesped\n",
       "7       50  Cesped\n",
       "8       30  Cesped\n",
       "9       60    Sala\n",
       "10      27    Sala\n",
       "11      33    Sala\n",
       "12      34    Sala\n",
       "13      27    Sala\n",
       "14      30    Sala"
      ]
     },
     "execution_count": 102,
     "metadata": {},
     "output_type": "execute_result"
    }
   ],
   "source": [
    "dff = pd.concat([dff11, dffs],ignore_index=True)\n",
    "dff"
   ]
  },
  {
   "cell_type": "code",
   "execution_count": 110,
   "id": "c4c414c8",
   "metadata": {},
   "outputs": [],
   "source": [
    "GB = dff.groupby(\"Tipo\")\n",
    "G1 = GB.median()\n",
    "G2 = GB.max()\n",
    "G3 = GB.min()"
   ]
  },
  {
   "cell_type": "code",
   "execution_count": 139,
   "id": "970738a7",
   "metadata": {},
   "outputs": [],
   "source": [
    "# El mantra de las visualizaciones\n",
    "from matplotlib import pyplot as plt\n",
    "%matplotlib inline\n",
    "%config Inlinebackend.figure_format = 'retina'\n",
    "\n",
    "import seaborn as sns\n",
    "sns.set_context('poster')\n",
    "sns.set(rc={'figure.figsize': (18., 9.)})\n",
    "sns.set_style('whitegrid')\n",
    "\n",
    "import matplotlib.pyplot as plt"
   ]
  },
  {
   "cell_type": "code",
   "execution_count": 185,
   "id": "902cd67a",
   "metadata": {},
   "outputs": [
    {
     "data": {
      "text/html": [
       "<div>\n",
       "<style scoped>\n",
       "    .dataframe tbody tr th:only-of-type {\n",
       "        vertical-align: middle;\n",
       "    }\n",
       "\n",
       "    .dataframe tbody tr th {\n",
       "        vertical-align: top;\n",
       "    }\n",
       "\n",
       "    .dataframe thead th {\n",
       "        text-align: right;\n",
       "    }\n",
       "</style>\n",
       "<table border=\"1\" class=\"dataframe\">\n",
       "  <thead>\n",
       "    <tr style=\"text-align: right;\">\n",
       "      <th></th>\n",
       "      <th>Precio</th>\n",
       "    </tr>\n",
       "    <tr>\n",
       "      <th>Tipo</th>\n",
       "      <th></th>\n",
       "    </tr>\n",
       "  </thead>\n",
       "  <tbody>\n",
       "    <tr>\n",
       "      <th>Cesped</th>\n",
       "      <td>103.0</td>\n",
       "    </tr>\n",
       "    <tr>\n",
       "      <th>Sala</th>\n",
       "      <td>31.5</td>\n",
       "    </tr>\n",
       "  </tbody>\n",
       "</table>\n",
       "</div>"
      ],
      "text/plain": [
       "        Precio\n",
       "Tipo          \n",
       "Cesped   103.0\n",
       "Sala      31.5"
      ]
     },
     "execution_count": 185,
     "metadata": {},
     "output_type": "execute_result"
    }
   ],
   "source": [
    "G1"
   ]
  },
  {
   "cell_type": "code",
   "execution_count": 195,
   "id": "54097f0e",
   "metadata": {},
   "outputs": [
    {
     "data": {
      "image/png": "[encoded data removed]",
      "text/plain": [
       "<Figure size 1296x648 with 1 Axes>"
      ]
     },
     "metadata": {},
     "output_type": "display_data"
    }
   ],
   "source": [
    "G1.plot(kind=\"bar\").set_title('Mediana' ,fontsize=18)\n",
    "plt.ylabel(\"Euros\")\n",
    "plt.savefig('graph1.png')"
   ]
  },
  {
   "cell_type": "code",
   "execution_count": 196,
   "id": "ed9f944b",
   "metadata": {},
   "outputs": [
    {
     "data": {
      "image/png": "[encoded data removed]",
      "text/plain": [
       "<Figure size 1296x648 with 1 Axes>"
      ]
     },
     "metadata": {},
     "output_type": "display_data"
    }
   ],
   "source": [
    "G2.plot(kind=\"bar\").set_title('Precio Máximo' ,fontsize=18)\n",
    "plt.ylabel(\"Euros\")\n",
    "plt.savefig(\"graph2.png\")"
   ]
  },
  {
   "cell_type": "code",
   "execution_count": 197,
   "id": "55004b2b",
   "metadata": {},
   "outputs": [
    {
     "data": {
      "image/png": "[encoded data removed]",
      "text/plain": [
       "<Figure size 1296x648 with 1 Axes>"
      ]
     },
     "metadata": {},
     "output_type": "display_data"
    }
   ],
   "source": [
    "G3.plot(kind=\"bar\").set_title('Precio Mínimo' ,fontsize=18)\n",
    "plt.ylabel(\"Euros\")\n",
    "plt.savefig(\"graph3.png\")"
   ]
  },
  {
   "cell_type": "code",
   "execution_count": 198,
   "id": "ce3a32e2",
   "metadata": {},
   "outputs": [
    {
     "data": {
      "image/png": "[encoded data removed]",
      "text/plain": [
       "<Figure size 648x648 with 1 Axes>"
      ]
     },
     "metadata": {},
     "output_type": "display_data"
    }
   ],
   "source": [
    "sns.catplot(data=dff, x=\"Tipo\", y=\"Precio\", height=9, jitter=False)\n",
    "plt.savefig(\"graph4.png\")"
   ]
  },
  {
   "cell_type": "code",
   "execution_count": 192,
   "id": "1c1b4dfb",
   "metadata": {},
   "outputs": [
    {
     "name": "stderr",
     "output_type": "stream",
     "text": [
      "\n",
      "\n",
      "====== WebDriver manager ======\n",
      "Current google-chrome version is 96.0.4664\n",
      "Get LATEST chromedriver version for 96.0.4664 google-chrome\n",
      "Driver [/Users/macniacos/.wdm/drivers/chromedriver/mac64/96.0.4664.45/chromedriver] found in cache\n",
      "<ipython-input-192-4a8270f42fe0>:2: DeprecationWarning: executable_path has been deprecated, please pass in a Service object\n",
      "  driver = webdriver.Chrome(ChromeDriverManager().install(), options = opciones)\n",
      "<ipython-input-192-4a8270f42fe0>:13: DeprecationWarning: find_element_by_* commands are deprecated. Please use find_element() instead\n",
      "  driver.find_element_by_css_selector(f\"#modal-policy > ul > li:nth-child(1) > button\").click()\n",
      "<ipython-input-192-4a8270f42fe0>:15: DeprecationWarning: find_element_by_* commands are deprecated. Please use find_element() instead\n",
      "  driver.find_element_by_css_selector(f\"body > ul > li:nth-child(1) > button\").click()\n",
      "<ipython-input-192-4a8270f42fe0>:17: DeprecationWarning: find_element_by_* commands are deprecated. Please use find_element() instead\n",
      "  driver.find_element_by_css_selector(f\"body > div.jmenu.opened > nav > ul > li.catalogo > ul > li:nth-child(2) > button\").click()\n",
      "<ipython-input-192-4a8270f42fe0>:19: DeprecationWarning: find_element_by_* commands are deprecated. Please use find_element() instead\n",
      "  driver.find_element_by_css_selector(f\"body > div.jmenu.opened.submenu-opened > nav > ul > li.catalogo > ul > li:nth-child(2) > ul > li:nth-child(4) > ul > li:nth-child(4) > a\").click()\n",
      "<ipython-input-192-4a8270f42fe0>:21: DeprecationWarning: find_element_by_* commands are deprecated. Please use find_element() instead\n",
      "  driver.find_element_by_css_selector(f\"#main > div > div.grid-parents > div.grid-products > div:nth-child(1) > a > img.secondary.lazyloaded\").click()\n",
      "<ipython-input-192-4a8270f42fe0>:24: DeprecationWarning: find_element_by_* commands are deprecated. Please use find_element() instead\n",
      "  descrip.append(driver.find_element_by_css_selector(f\"#main > div.container.sheet > div > div.col-xs-12\").text)\n"
     ]
    },
    {
     "data": {
      "text/plain": [
       "['El modelo Master está destinada a jugadores de nivel avanzado que buscan aumentar el control y el rendimiento de su pegada. La forma lágrima permite un juego más versátil. \\nEstá fabricada con fibras de carbono 1k. 1.000 filamentos de fibra de carbono entrelazado que crean una pala resistente y con plus de potencia. Está acabada en mate.\\nEl núcleo interior está construido con la tecnología EVA SOFT, que combinada con el carbono 1K exterior, aportan el control necesario para desarrollar la máxima potencia en tu golpe de forma controlada.\\n• Gama: media-alta\\n• Forma: lágrima\\n• Núcleo: EVA\\n• Cara: Fibra de carbono 1K\\n• Marco: 100% fibra de carbono\\n• Peso: 360-380 g\\n• Grosor: 38 mm\\n• Control: 40 %\\n• Potencia: 60 %\\n• Balance: alto\\n• Sin funda']"
      ]
     },
     "execution_count": 192,
     "metadata": {},
     "output_type": "execute_result"
    }
   ],
   "source": [
    "# download the driver \n",
    "driver = webdriver.Chrome(ChromeDriverManager().install(), options = opciones)\n",
    "\n",
    "\n",
    "# set the url\n",
    "url = \"https://www.joma-sport.com/\"\n",
    "opciones.add_argument('--start-maximized') \n",
    "\n",
    "# request the url\n",
    "driver.get(url)\n",
    "\n",
    "driver.implicitly_wait(2) # is like a time.sleep but specific of selenium\n",
    "driver.find_element_by_css_selector(f\"#modal-policy > ul > li:nth-child(1) > button\").click()\n",
    "driver.implicitly_wait(2) \n",
    "driver.find_element_by_css_selector(f\"body > ul > li:nth-child(1) > button\").click()\n",
    "driver.implicitly_wait(2) \n",
    "driver.find_element_by_css_selector(f\"body > div.jmenu.opened > nav > ul > li.catalogo > ul > li:nth-child(2) > button\").click()\n",
    "driver.implicitly_wait(2) \n",
    "driver.find_element_by_css_selector(f\"body > div.jmenu.opened.submenu-opened > nav > ul > li.catalogo > ul > li:nth-child(2) > ul > li:nth-child(4) > ul > li:nth-child(4) > a\").click()\n",
    "driver.implicitly_wait(4) \n",
    "driver.find_element_by_css_selector(f\"#main > div > div.grid-parents > div.grid-products > div:nth-child(1) > a > img.secondary.lazyloaded\").click()\n",
    "driver.implicitly_wait(4)\n",
    "descrip = []\n",
    "descrip.append(driver.find_element_by_css_selector(f\"#main > div.container.sheet > div > div.col-xs-12\").text)\n",
    "descrip\n",
    "#main > div.container.sheet > div > div.col-xs-12"
   ]
  },
  {
   "cell_type": "code",
   "execution_count": null,
   "id": "05bf3c4d",
   "metadata": {},
   "outputs": [],
   "source": []
  },
  {
   "cell_type": "code",
   "execution_count": null,
   "id": "281e80fc",
   "metadata": {},
   "outputs": [],
   "source": [
    "    "
   ]
  }
 ],
 "metadata": {
  "kernelspec": {
   "display_name": "ironhack",
   "language": "python",
   "name": "ironhack"
  },
  "language_info": {
   "codemirror_mode": {
    "name": "ipython",
    "version": 3
   },
   "file_extension": ".py",
   "mimetype": "text/x-python",
   "name": "python",
   "nbconvert_exporter": "python",
   "pygments_lexer": "ipython3",
   "version": "3.8.5"
  }
 },
 "nbformat": 4,
 "nbformat_minor": 5
}
